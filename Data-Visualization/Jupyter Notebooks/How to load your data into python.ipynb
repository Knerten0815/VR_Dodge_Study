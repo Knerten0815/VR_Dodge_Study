{
 "cells": [
  {
   "cell_type": "code",
   "execution_count": 1,
   "id": "64bae3f8",
   "metadata": {},
   "outputs": [
    {
     "name": "stdout",
     "output_type": "stream",
     "text": [
      "Collecting scipy\n",
      "  Downloading scipy-1.10.0-cp39-cp39-win_amd64.whl (42.5 MB)\n",
      "     ---------------------------------------- 42.5/42.5 MB 6.9 MB/s eta 0:00:00\n",
      "Requirement already satisfied: numpy<1.27.0,>=1.19.5 in d:\\programmierung\\anaconda3\\lib\\site-packages (from scipy) (1.23.5)\n",
      "Installing collected packages: scipy\n",
      "Successfully installed scipy-1.10.0\n",
      "Note: you may need to restart the kernel to use updated packages.\n"
     ]
    }
   ],
   "source": [
    "#pip install scipy"
   ]
  },
  {
   "cell_type": "code",
   "execution_count": 2,
   "id": "5c3b391c",
   "metadata": {},
   "outputs": [],
   "source": [
    "import pandas as pd\n",
    "import csv\n",
    "import numpy as np\n",
    "from scipy import stats"
   ]
  },
  {
   "cell_type": "code",
   "execution_count": 3,
   "id": "2a1f58b8",
   "metadata": {},
   "outputs": [],
   "source": [
    "ids_A = [\"A8\", \"A10\", \"A11\", \"A12\"]\n",
    "ids_B = [\"B4\", \"B5\", \"B6\", \"B7\"]"
   ]
  },
  {
   "attachments": {},
   "cell_type": "markdown",
   "id": "8a988ab5",
   "metadata": {},
   "source": [
    "#### Read experiment csv files into dictionarys"
   ]
  },
  {
   "cell_type": "code",
   "execution_count": 85,
   "id": "e8a24cdb",
   "metadata": {},
   "outputs": [
    {
     "data": {
      "text/html": [
       "<div>\n",
       "<style scoped>\n",
       "    .dataframe tbody tr th:only-of-type {\n",
       "        vertical-align: middle;\n",
       "    }\n",
       "\n",
       "    .dataframe tbody tr th {\n",
       "        vertical-align: top;\n",
       "    }\n",
       "\n",
       "    .dataframe thead th {\n",
       "        text-align: right;\n",
       "    }\n",
       "</style>\n",
       "<table border=\"1\" class=\"dataframe\">\n",
       "  <thead>\n",
       "    <tr style=\"text-align: right;\">\n",
       "      <th></th>\n",
       "      <th>min_g_r</th>\n",
       "      <th>max_g_r</th>\n",
       "      <th>g_r_average</th>\n",
       "      <th>sum_injected_rotation_g_r(IN DEGREES)</th>\n",
       "      <th>injected_rotation_average</th>\n",
       "    </tr>\n",
       "  </thead>\n",
       "  <tbody>\n",
       "    <tr>\n",
       "      <th>0</th>\n",
       "      <td>-2.721025</td>\n",
       "      <td>1.972275</td>\n",
       "      <td>0.004942</td>\n",
       "      <td>9.039402</td>\n",
       "      <td>0.000963</td>\n",
       "    </tr>\n",
       "    <tr>\n",
       "      <th>1</th>\n",
       "      <td>-5.269212</td>\n",
       "      <td>5.383467</td>\n",
       "      <td>0.009485</td>\n",
       "      <td>19.448920</td>\n",
       "      <td>0.001429</td>\n",
       "    </tr>\n",
       "    <tr>\n",
       "      <th>2</th>\n",
       "      <td>-4.990340</td>\n",
       "      <td>4.139502</td>\n",
       "      <td>0.011336</td>\n",
       "      <td>18.598520</td>\n",
       "      <td>0.002283</td>\n",
       "    </tr>\n",
       "    <tr>\n",
       "      <th>3</th>\n",
       "      <td>-2.886984</td>\n",
       "      <td>2.531294</td>\n",
       "      <td>0.006964</td>\n",
       "      <td>15.505280</td>\n",
       "      <td>0.001890</td>\n",
       "    </tr>\n",
       "    <tr>\n",
       "      <th>4</th>\n",
       "      <td>-3.344656</td>\n",
       "      <td>7.295310</td>\n",
       "      <td>0.009690</td>\n",
       "      <td>19.751630</td>\n",
       "      <td>0.002661</td>\n",
       "    </tr>\n",
       "    <tr>\n",
       "      <th>...</th>\n",
       "      <td>...</td>\n",
       "      <td>...</td>\n",
       "      <td>...</td>\n",
       "      <td>...</td>\n",
       "      <td>...</td>\n",
       "    </tr>\n",
       "    <tr>\n",
       "      <th>121</th>\n",
       "      <td>-3.839200</td>\n",
       "      <td>7.484250</td>\n",
       "      <td>0.008956</td>\n",
       "      <td>14.342270</td>\n",
       "      <td>0.001819</td>\n",
       "    </tr>\n",
       "    <tr>\n",
       "      <th>122</th>\n",
       "      <td>-1.816806</td>\n",
       "      <td>6.931334</td>\n",
       "      <td>0.011709</td>\n",
       "      <td>21.298190</td>\n",
       "      <td>0.003384</td>\n",
       "    </tr>\n",
       "    <tr>\n",
       "      <th>123</th>\n",
       "      <td>-1.490812</td>\n",
       "      <td>1.948283</td>\n",
       "      <td>0.006214</td>\n",
       "      <td>17.180910</td>\n",
       "      <td>0.001340</td>\n",
       "    </tr>\n",
       "    <tr>\n",
       "      <th>124</th>\n",
       "      <td>-3.028456</td>\n",
       "      <td>13.686770</td>\n",
       "      <td>0.008138</td>\n",
       "      <td>36.969550</td>\n",
       "      <td>0.002977</td>\n",
       "    </tr>\n",
       "    <tr>\n",
       "      <th>125</th>\n",
       "      <td>-2.489991</td>\n",
       "      <td>1.808594</td>\n",
       "      <td>0.007051</td>\n",
       "      <td>24.406610</td>\n",
       "      <td>0.003273</td>\n",
       "    </tr>\n",
       "  </tbody>\n",
       "</table>\n",
       "<p>126 rows × 5 columns</p>\n",
       "</div>"
      ],
      "text/plain": [
       "      min_g_r    max_g_r  g_r_average  sum_injected_rotation_g_r(IN DEGREES)  \\\n",
       "0   -2.721025   1.972275     0.004942                               9.039402   \n",
       "1   -5.269212   5.383467     0.009485                              19.448920   \n",
       "2   -4.990340   4.139502     0.011336                              18.598520   \n",
       "3   -2.886984   2.531294     0.006964                              15.505280   \n",
       "4   -3.344656   7.295310     0.009690                              19.751630   \n",
       "..        ...        ...          ...                                    ...   \n",
       "121 -3.839200   7.484250     0.008956                              14.342270   \n",
       "122 -1.816806   6.931334     0.011709                              21.298190   \n",
       "123 -1.490812   1.948283     0.006214                              17.180910   \n",
       "124 -3.028456  13.686770     0.008138                              36.969550   \n",
       "125 -2.489991   1.808594     0.007051                              24.406610   \n",
       "\n",
       "     injected_rotation_average  \n",
       "0                     0.000963  \n",
       "1                     0.001429  \n",
       "2                     0.002283  \n",
       "3                     0.001890  \n",
       "4                     0.002661  \n",
       "..                         ...  \n",
       "121                   0.001819  \n",
       "122                   0.003384  \n",
       "123                   0.001340  \n",
       "124                   0.002977  \n",
       "125                   0.003273  \n",
       "\n",
       "[126 rows x 5 columns]"
      ]
     },
     "execution_count": 85,
     "metadata": {},
     "output_type": "execute_result"
    }
   ],
   "source": [
    "a_sample_dict, b_sample_dict, a_result_dict, b_result_dict = {}, {}, {}, {}\n",
    "tmp = []\n",
    "\n",
    "for id in ids_A:\n",
    "    for i in range(125):\n",
    "        tmp.append(pd.read_csv(fr\"C:\\Users\\kevin\\Desktop\\ExperimentResults\\Group_A\\userID_{id}\\SampledMetrics\\trialIteration_{i}_samples.csv\", sep=\";\"))\n",
    "        #tmp[i].dropna(axis='columns')\n",
    "    a_sample_dict[id] = tmp\n",
    "    tmp = []\n",
    "    \n",
    "    #fixing broken first row in results \n",
    "    result_path = fr'C:\\Users\\kevin\\Desktop\\ExperimentResults\\Group_A\\userID_{id}'\n",
    "    with open(fr\"{result_path}\\Result.csv\", 'rt') as inp, open(fr\"{result_path}\\Result_edit.csv\", 'wt') as out:\n",
    "        writer = csv.writer(out)\n",
    "        for row in csv.reader(inp):\n",
    "            if row != ['sep=;']:\n",
    "                writer.writerow(row)\n",
    "\n",
    "    a_result_dict[id] = pd.read_csv(fr\"{result_path}\\Result_edit.csv\", sep=\";\")\n",
    "    # dropping irrelevant columns\n",
    "    # a_result_dict[id].drop('TrialIteration', axis=1, inplace=True) # might be interesting, when sorting the columns after trialID\n",
    "    a_result_dict[id].dropna(axis='columns', inplace=True)\n",
    "    #a_result_dict[id] = a_result_dict[id].sort_values(by=['trialID'])\n",
    "\n",
    "for id in ids_B:\n",
    "    for i in range(125):\n",
    "        tmp.append(pd.read_csv(fr\"C:\\Users\\kevin\\Desktop\\ExperimentResults\\Group_B\\userID_{id}\\SampledMetrics\\trialIteration_{i}_samples.csv\", sep=\";\"))\n",
    "        tmp[i].dropna(axis='columns')\n",
    "        tmp[i].drop(columns=['g_r', 'injected_rotations', 'additional_virtual_rotation_accumulation',\n",
    "                          'virtual_position', 'virtual_direction', 'virtual_euler', 'virtual_rotation'],\n",
    "                    inplace=True)\n",
    "    b_sample_dict[id] = tmp\n",
    "    tmp = []\n",
    "\n",
    "    #fixing broken first row in results \n",
    "    result_path = fr'C:\\Users\\kevin\\Desktop\\ExperimentResults\\Group_B\\userID_{id}'\n",
    "    with open(fr\"{result_path}\\Result.csv\", 'rt') as inp, open(fr\"{result_path}\\Result_edit.csv\", 'wt') as out:\n",
    "        writer = csv.writer(out)\n",
    "        for row in csv.reader(inp):\n",
    "            if row != ['sep=;']:\n",
    "                writer.writerow(row)#\n",
    "                \n",
    "    b_result_dict[id] = pd.read_csv(fr\"{result_path}\\Result_edit.csv\", sep=\";\")\n",
    "    # dropping irrelevant columns\n",
    "    b_result_dict[id].drop(columns=['min_g_r', 'max_g_r', 'g_r_average', 'sum_injected_rotation_g_r(IN DEGREES)', 'injected_rotation_average',\n",
    "                                    'real_dir_at_virt_yaw', 'virt_dir_at_virt_yaw', 'max_yaw_virt', 'real_pos_at_virt_yaw', 'virt_pos_at_virt_yaw',\n",
    "                                    'real_euler_at_real_yaw','virt_euler_at_real_yaw', 'real_euler_at_virt_yaw', 'virt_euler_at_virt_yaw',\n",
    "                                    'real_rot_at_real_yaw',\t'virt_rot_at_real_yaw', 'real_rot_at_virt_yaw' ,'virt_rot_at_virt_yaw'],\n",
    "                           inplace=True)\n",
    "    # b_result_dict[id].drop('TrialIteration', axis=1, inplace=True)  # might be interesting, when sorting the columns after trialID\n",
    "    b_result_dict[id].dropna(axis='columns', inplace=True)\n",
    "    #b_result_dict[id] = b_result_dict[id].sort_values(by=['trialID'])\n",
    "\n",
    "\n",
    "#a_result_dict['A10']\n",
    "#b_result_dict['B4']\n",
    "#a_sample_dict['A10'][25]\n",
    "a_result_dict['A10'].loc[:, 'min_g_r':'injected_rotation_average']"
   ]
  },
  {
   "attachments": {},
   "cell_type": "markdown",
   "id": "31580210",
   "metadata": {},
   "source": [
    "### read questionnaire csv and concat to result csv"
   ]
  },
  {
   "cell_type": "code",
   "execution_count": 5,
   "id": "73009ed6",
   "metadata": {},
   "outputs": [
    {
     "data": {
      "text/plain": [
       "Zeitstempel                                                                                                                             2022/12/27 8:09:30 PM MEZ\n",
       "ID Nummer                                                                                                                                                      B7\n",
       "Allgemeines Unwohlsein                                                                                                                                          1\n",
       "Ermüdung                                                                                                                                                        3\n",
       "Kopfschmerzen                                                                                                                                                   2\n",
       "                                                                                                                                                  ...            \n",
       "In welchem Ausmaß spielen Sie Videospiele auf dem Handy, einer Konsole oder am PC? (Sehr häufig entspricht mehrere Stunden täglich).                            1\n",
       "VRSQ-Score                                                                                                                                                   None\n",
       "SP-Score                                                                                                                                                     None\n",
       "INV-Score                                                                                                                                                    None\n",
       "REAL-Score                                                                                                                                                   None\n",
       "Name: 7, Length: 62, dtype: object"
      ]
     },
     "execution_count": 5,
     "metadata": {},
     "output_type": "execute_result"
    }
   ],
   "source": [
    "questionnaire_results = pd.read_csv(fr'C:\\Users\\kevin\\Desktop\\ExperimentResults\\VR Ausweichstudie Fragebogen.csv')\n",
    "questionnaire_results.drop('Bitte geben Sie an, ob Sie die Datenschutz- und Einverständniserklärung gelesen haben und fragen Sie den Versuchsleiter, falls Ihnen diese nicht vorgelegt wurde, diese durchzusehen und zu unterzeichnen.', axis=1, inplace=True)\n",
    "questionnaire_results['ID Nummer'] = questionnaire_results['ID Nummer'].str.upper()\n",
    "# renaming IPQ columns:                 # general \"sense of being there\"\n",
    "questionnaire_results.rename(columns={'In der computererzeugten Welt hatte ich den Eindruck, dort gewesen zu sein... ': 'G1',\n",
    "                                        # Spatial Presence\n",
    "                                      'Ich hatte das Gefühl, daß die virtuelle Umgebung hinter mir weitergeht.': 'SP1',\n",
    "                                      'Ich hatte das Gefühl, nur Bilder zu sehen. ': 'SP2',\n",
    "                                      'Ich hatte nicht das Gefühl, in dem virtuellen Raum zu sein': \"SP3\",\n",
    "                                      'Ich hatte das Gefühl, in dem virtuellen Raum zu handeln statt etwas von außen zu bedienen.': 'SP4',\n",
    "                                      'Ich fühlte mich im virtuellen Raum anwesend. ': 'SP5',\n",
    "                                        # Involvement \n",
    "                                      'Wie bewusst war Ihnen die reale Welt, während Sie sich durch die virtuelle Welt bewegten (z.B. Geräusche, Raumtemperatur, andere Personen etc.)? ':'INV1',\n",
    "                                      'Meine reale Umgebung war mir nicht mehr bewusst.': 'INV2',\n",
    "                                      'Ich achtete noch auf die reale Umgebung. ': 'INV3',\n",
    "                                      'Meine Aufmerksamkeit war von der virtuellen Welt völlig in Bann gezogen. ':'INV4',\n",
    "                                        # Experienced Realism\n",
    "                                      'Wie real erschien Ihnen die virtuelle Umgebung? ': 'REAL1',\n",
    "                                      'Wie sehr glich Ihr Erleben der virtuellen Umgebung dem Erleben einer realen Umgebung? ': \"REAL2\",\n",
    "                                      'Wie real erschien Ihnen die virtuelle Welt? ': 'REAL3',\n",
    "                                      'Die virtuelle Welt erschien mir wirklicher als die reale Welt. ': 'REAL4',                                      \n",
    "                                      }, inplace=True)\n",
    "questionnaire_results['VRSQ-Score'] = [None] * len(questionnaire_results)\n",
    "questionnaire_results['SP-Score'] = [None] * len(questionnaire_results)\n",
    "questionnaire_results['INV-Score'] = [None] * len(questionnaire_results)\n",
    "questionnaire_results['REAL-Score'] = [None] * len(questionnaire_results)\n",
    "\n",
    "questionnaire_dict = {}\n",
    "for i in range(len(questionnaire_results)):\n",
    "        questionnaire_dict[questionnaire_results.loc[i]['ID Nummer']] = questionnaire_results.loc[i]\n",
    "\n",
    "#questionnaire_results\n",
    "questionnaire_dict['B7']"
   ]
  },
  {
   "attachments": {},
   "cell_type": "markdown",
   "id": "738f72bd",
   "metadata": {},
   "source": [
    "***\n",
    "### this is how you reference Samples"
   ]
  },
  {
   "cell_type": "code",
   "execution_count": 13,
   "id": "a11425f7",
   "metadata": {},
   "outputs": [
    {
     "data": {
      "text/plain": [
       "sampling_intervals                                                                    0.01416\n",
       "g_r                                                                                  0.003607\n",
       "injected_rotations                                                                   0.000303\n",
       "real_rotation_accumulation                                                          -0.447626\n",
       "additional_virtual_rotation_accumulation                                            -0.063568\n",
       "real_position                                                 -0.4940824, 1.536413, 0.3186228\n",
       "virtual_position                                              -0.3369487, 1.536413, 0.2278049\n",
       "real_direction                                               0.006216955, 0.115328, 0.9933075\n",
       "virtual_direction                                            -0.8744847, 0.115328, -0.4711426\n",
       "real_euler                                                      353.3774, 0.3585951, 0.966338\n",
       "virtual_euler                                                   353.3774, 241.6857, 0.9663382\n",
       "real_rotation                               0.05773177, -0.003611071, -0.008599415, -0.998...\n",
       "virtual_rotation                                 0.03683998, 0.856863, 0.04527386, -0.5122292\n",
       "relative_virt_position                                                0.04257375, -0.01629782\n",
       "Unnamed: 14                                                                               NaN\n",
       "Name: 2, dtype: object"
      ]
     },
     "execution_count": 13,
     "metadata": {},
     "output_type": "execute_result"
    }
   ],
   "source": [
    "user_id = \"A10\"\n",
    "trial_iteration = 25\n",
    "sample = 2\n",
    "sample_key = \"g_r\"\n",
    "\n",
    "# get the whole dataframe of a trial\n",
    "a_sample_dict[user_id][trial_iteration]\n",
    "\n",
    "# get sample list:\n",
    "a_sample_dict[user_id][trial_iteration][sample_key]\n",
    "\n",
    "# get all values from specific sample\n",
    "a_sample_dict[user_id][trial_iteration].iloc[sample]\n",
    "\n",
    "# get a specific value \n",
    "a_sample_dict[user_id][trial_iteration].iloc[sample][sample_key]\n",
    "\n",
    "# print all sample key names\n",
    "a_sample_dict[user_id][trial_iteration].columns"
   ]
  },
  {
   "attachments": {},
   "cell_type": "markdown",
   "id": "bfa15d4d",
   "metadata": {},
   "source": [
    "### this is how you reference Results"
   ]
  },
  {
   "cell_type": "code",
   "execution_count": 33,
   "id": "15a6bed1",
   "metadata": {
    "scrolled": true
   },
   "outputs": [
    {
     "data": {
      "text/plain": [
       "Index(['TrialIteration', 'EndState', 'experiment_start_time', 'trialID',\n",
       "       'form', 'size', 'speed', 'angle', 'experiment_duration',\n",
       "       'average_sampling_interval', 'sum_real_distance_travelled(IN METERS)',\n",
       "       'max_distance_to_center', 'real_pos_at_max_dist',\n",
       "       'virt_pos_at_max_dist', 'min_g_r', 'max_g_r', 'g_r_average',\n",
       "       'sum_injected_rotation_g_r(IN DEGREES)', 'injected_rotation_average',\n",
       "       'max_yaw_real', 'max_yaw_virt', 'real_dir_at_real_yaw',\n",
       "       'virt_dir_at_real_yaw', 'real_dir_at_virt_yaw', 'virt_dir_at_virt_yaw',\n",
       "       'real_pos_at_real_yaw', 'virt_pos_at_real_yaw', 'real_pos_at_virt_yaw',\n",
       "       'virt_pos_at_virt_yaw', 'real_euler_at_real_yaw',\n",
       "       'virt_euler_at_real_yaw', 'real_euler_at_virt_yaw',\n",
       "       'virt_euler_at_virt_yaw', 'real_rot_at_real_yaw',\n",
       "       'virt_rot_at_real_yaw', 'real_rot_at_virt_yaw', 'virt_rot_at_virt_yaw'],\n",
       "      dtype='object')"
      ]
     },
     "execution_count": 33,
     "metadata": {},
     "output_type": "execute_result"
    }
   ],
   "source": [
    "user_id = \"A10\"\n",
    "trial_iteration = 25\n",
    "trial = 80\n",
    "column = \"trialID\"\n",
    "\n",
    "# get the whole result dataframe of a trial\n",
    "a_result_dict[user_id]\n",
    "# get a column:\n",
    "a_result_dict[user_id][column]\n",
    "# get a row\n",
    "a_result_dict[user_id].iloc[trial]\n",
    "# get a specific value\n",
    "a_result_dict[user_id].iloc[trial][column]\n",
    "# print all column names\n",
    "a_result_dict[user_id].columns"
   ]
  },
  {
   "attachments": {},
   "cell_type": "markdown",
   "id": "35463f8b",
   "metadata": {},
   "source": [
    "***\n",
    "### Calculate Questionnaire Data\n",
    "#### VRSQ Score:"
   ]
  },
  {
   "cell_type": "code",
   "execution_count": 6,
   "id": "c6d1437e",
   "metadata": {},
   "outputs": [
    {
     "name": "stdout",
     "output_type": "stream",
     "text": [
      "VRSQ Score for A8 is 45.0\n",
      "VRSQ Score for B4 is 33.33333333333333\n",
      "VRSQ Score for A10 is 33.33333333333333\n",
      "VRSQ Score for B5 is 74.16666666666666\n",
      "VRSQ Score for A11 is 52.5\n",
      "VRSQ Score for B6 is 36.666666666666664\n",
      "VRSQ Score for A12 is 100.83333333333333\n",
      "VRSQ Score for B7 is 60.0\n",
      "VRSQ Score for A14 is 48.33333333333333\n",
      "VRSQ Score for B9 is 51.66666666666667\n",
      "VRSQ Score for A15 is 56.66666666666666\n",
      "VRSQ Score for B11 is 63.33333333333333\n",
      "VRSQ Score for A16 is 75.0\n",
      "Group A VRSQ-Score is  58.8095238095238\n",
      "Group B VRSQ-Score is  53.194444444444436\n"
     ]
    },
    {
     "name": "stderr",
     "output_type": "stream",
     "text": [
      "C:\\Users\\kevin\\AppData\\Local\\Temp\\ipykernel_11684\\3472657793.py:11: SettingWithCopyWarning: \n",
      "A value is trying to be set on a copy of a slice from a DataFrame\n",
      "\n",
      "See the caveats in the documentation: https://pandas.pydata.org/pandas-docs/stable/user_guide/indexing.html#returning-a-view-versus-a-copy\n",
      "  questionnaire_dict[key]['VRSQ-Score'] = user_score\n"
     ]
    }
   ],
   "source": [
    "b_score, a_score = 0, 0\n",
    "count_a, count_b = 0, 0\n",
    "\n",
    "for key in questionnaire_dict:\n",
    "    user_answers = questionnaire_dict[key]\n",
    "    a = user_answers['Allgemeines Unwohlsein'] + user_answers['Ermüdung'] + user_answers['Kopfschmerzen'] + user_answers['angestrengte Augen']\n",
    "    b = user_answers['Schwierigkeiten scharf zu sehen'] + user_answers['Kopfdruck'] + user_answers['Verschwommenes Sehen'] + user_answers['Schwindel bei geschlossenen Augen'] + user_answers['Gleichgewichtsstörungen']\n",
    "    c = a / 12 * 100\n",
    "    d = b / 15 * 100\n",
    "    user_score = (c + d) / 2\n",
    "    questionnaire_dict[key]['VRSQ-Score'] = user_score\n",
    "    print('VRSQ Score for', user_answers['ID Nummer'], 'is', questionnaire_dict[key]['VRSQ-Score'])\n",
    "\n",
    "    # sum up scores of all keys containing A and B\n",
    "    if 'A' in key:\n",
    "        a_score += user_score\n",
    "        count_a += 1\n",
    "    elif 'B' in key:\n",
    "        b_score += user_score\n",
    "        count_b += 1\n",
    "\n",
    "# calculate average scores\n",
    "a_score = a_score / count_a\n",
    "b_score = b_score / count_b\n",
    "\n",
    "print('Group A VRSQ-Score is ', a_score)\n",
    "print('Group B VRSQ-Score is ', b_score)"
   ]
  },
  {
   "attachments": {},
   "cell_type": "markdown",
   "id": "bf4a67a7",
   "metadata": {},
   "source": [
    "#### IPQ Scores:"
   ]
  },
  {
   "cell_type": "code",
   "execution_count": 9,
   "id": "626fa897",
   "metadata": {},
   "outputs": [
    {
     "name": "stdout",
     "output_type": "stream",
     "text": [
      "IPQ Sub-Scores for Group A:\n",
      "General Presence:  4.142857142857143\n",
      "Spatial Presence:  4.371428571428571\n",
      "Involvement:  4.178571428571429\n",
      "Realism:  4.428571428571429\n",
      "\n",
      "IPQ Sub-Scores for Group B:\n",
      "General Presence:  5.5\n",
      "Spatial Presence:  4.7\n",
      "Involvement:  4.458333333333333\n",
      "Realism:  3.6666666666666665\n"
     ]
    },
    {
     "name": "stderr",
     "output_type": "stream",
     "text": [
      "C:\\Users\\kevin\\AppData\\Local\\Temp\\ipykernel_11684\\652424499.py:11: SettingWithCopyWarning: \n",
      "A value is trying to be set on a copy of a slice from a DataFrame\n",
      "\n",
      "See the caveats in the documentation: https://pandas.pydata.org/pandas-docs/stable/user_guide/indexing.html#returning-a-view-versus-a-copy\n",
      "  questionnaire_dict[key]['SP-Score'] = sp\n",
      "C:\\Users\\kevin\\AppData\\Local\\Temp\\ipykernel_11684\\652424499.py:12: SettingWithCopyWarning: \n",
      "A value is trying to be set on a copy of a slice from a DataFrame\n",
      "\n",
      "See the caveats in the documentation: https://pandas.pydata.org/pandas-docs/stable/user_guide/indexing.html#returning-a-view-versus-a-copy\n",
      "  questionnaire_dict[key]['INV-Score'] = inv\n",
      "C:\\Users\\kevin\\AppData\\Local\\Temp\\ipykernel_11684\\652424499.py:13: SettingWithCopyWarning: \n",
      "A value is trying to be set on a copy of a slice from a DataFrame\n",
      "\n",
      "See the caveats in the documentation: https://pandas.pydata.org/pandas-docs/stable/user_guide/indexing.html#returning-a-view-versus-a-copy\n",
      "  questionnaire_dict[key]['REAL-Score'] = real\n"
     ]
    }
   ],
   "source": [
    "a_g, a_sp, a_inv, a_real = 0, 0, 0, 0\n",
    "b_g, b_sp, b_inv, b_real = 0, 0, 0, 0\n",
    "count_a, count_b = 0, 0\n",
    "\n",
    "for key in questionnaire_dict:\n",
    "    user_answers = questionnaire_dict[key]\n",
    "    sp = (user_answers['SP1'] + user_answers['SP2'] + user_answers['SP3'] + user_answers['SP4'] + user_answers['SP5']) / 5\n",
    "    inv = (user_answers['INV1'] + user_answers['INV2'] + user_answers['INV3'] + user_answers['INV4']) / 4\n",
    "    real = (user_answers['REAL1'] + user_answers['REAL2'] + user_answers['REAL3'] + user_answers['REAL4']) / 4\n",
    "\n",
    "    questionnaire_dict[key]['SP-Score'] = sp\n",
    "    questionnaire_dict[key]['INV-Score'] = inv\n",
    "    questionnaire_dict[key]['REAL-Score'] = real\n",
    "    \n",
    "    # print('IPQ Sub-Scores for', user_answers['ID Nummer'], 'are:')\n",
    "    # print('General Presence: ', questionnaire_dict[key]['G1'])\n",
    "    # print('Spatial Presence: ', questionnaire_dict[key]['SP-Score'])\n",
    "    # print('Involvement: ', questionnaire_dict[key]['INV-Score'])\n",
    "    # print('Realism: ', questionnaire_dict[key]['REAL-Score'])\n",
    "\n",
    "    # sum up scores of all keys containing A and B\n",
    "    if 'A' in key:\n",
    "        a_g += questionnaire_dict[key]['G1']\n",
    "        a_sp += sp\n",
    "        a_inv += inv\n",
    "        a_real += real\n",
    "        count_a += 1\n",
    "    elif 'B' in key:\n",
    "        b_g += questionnaire_dict[key]['G1']\n",
    "        b_sp += sp\n",
    "        b_inv += inv\n",
    "        b_real += real\n",
    "        count_b += 1\n",
    "\n",
    "# calculate average scores\n",
    "a_g = a_g / count_a\n",
    "a_sp = a_sp / count_a\n",
    "a_inv = a_inv / count_a\n",
    "a_real = a_real / count_a\n",
    "\n",
    "b_g = b_g / count_b\n",
    "b_sp = b_sp / count_b\n",
    "b_inv = b_inv / count_b\n",
    "b_real = b_real / count_b\n",
    "\n",
    "print('IPQ Sub-Scores for Group A:')\n",
    "print('General Presence: ', a_g)\n",
    "print('Spatial Presence: ', a_sp)\n",
    "print('Involvement: ', a_inv)\n",
    "print('Realism: ', a_real)\n",
    "\n",
    "print()\n",
    "\n",
    "print('IPQ Sub-Scores for Group B:')\n",
    "print('General Presence: ', b_g)\n",
    "print('Spatial Presence: ', b_sp)\n",
    "print('Involvement: ', b_inv)\n",
    "print('Realism: ', b_real)"
   ]
  },
  {
   "attachments": {},
   "cell_type": "markdown",
   "id": "8607d7af",
   "metadata": {},
   "source": [
    "***\n",
    "### Prepare Data\n",
    "\n",
    "Create a dictionary for each group A and B <br>\n",
    "Ditctionary keys are the trial IDs<br>\n",
    "Every key contains an array of all *MAX_YAW* samples from each user<br>"
   ]
  },
  {
   "cell_type": "code",
   "execution_count": 141,
   "id": "7ab578cb",
   "metadata": {},
   "outputs": [],
   "source": [
    "trial_id_list = []      # list of all trial IDs\n",
    "for i in range(len(a_result_dict['A10'])):\n",
    "    trial_id_list.append(a_result_dict['A10'].iloc[i]['trialID'])\n",
    "\n",
    "a_yaws_by_trial = {}    # maximum accumulated virtual yaw per trial in grop A\n",
    "b_yaws_by_trial = {}    # maximum accumulated real yaw per trial in grop B\n",
    "\n",
    "for trial_id in trial_id_list:\n",
    "    a_yaws_by_trial[f'{trial_id}'] = []\n",
    "    b_yaws_by_trial[f'{trial_id}'] = []\n",
    "    \n",
    "    for user_id in a_result_dict:\n",
    "        a_yaws_by_trial[f'{trial_id}'].append(a_result_dict[user_id].loc[a_result_dict[user_id]['trialID'] == trial_id]['max_yaw_virt'].values[0])\n",
    "\n",
    "    for user_id in b_result_dict:\n",
    "        b_yaws_by_trial[f'{trial_id}'].append(b_result_dict[user_id].loc[b_result_dict[user_id]['trialID'] == trial_id]['max_yaw_real'].values[0])"
   ]
  },
  {
   "attachments": {},
   "cell_type": "markdown",
   "id": "20bce8b1",
   "metadata": {},
   "source": [
    "### check max yaw samples of each trial for normal distribution\n",
    "\n",
    "code taken from: https://docs.scipy.org/doc/scipy/reference/generated/scipy.stats.normaltest.html </br>\n",
    "see also: https://stackoverflow.com/questions/12838993/scipy-normaltest-how-is-it-used"
   ]
  },
  {
   "cell_type": "code",
   "execution_count": 132,
   "id": "160eb3c8",
   "metadata": {},
   "outputs": [
    {
     "name": "stdout",
     "output_type": "stream",
     "text": [
      "H0: There are no significant differences in the REAL max yaw yalues of Group B and the VIRTUAL max yaw values of Group A for a specific trial.\n",
      "!!! Trial 110 is not normally distributed !!! p is 0.0025171553562455973\n",
      "!!! Trial 105 is not normally distributed !!! p is 0.030959141182844936\n",
      "!!! Trial 23 is not normally distributed !!! p is 0.02468360372201439\n",
      "H0 can be REJECTED for Trial 2121\n",
      "!!! Trial 2126 is not normally distributed !!! p is 0.03182007369602723\n",
      "!!! Trial 25 is not normally distributed !!! p is 0.023729518543090442\n",
      "!!! Trial 104 is not normally distributed !!! p is 0.00023942221717442424\n",
      "!!! Trial 2124 is not normally distributed !!! p is 0.000510902108030825\n",
      "!!! Trial 2015 is not normally distributed !!! p is 0.0033449292362690915\n",
      "!!! Trial 1125 is not normally distributed !!! p is 0.0029332603067388917\n",
      "!!! Trial 26 is not normally distributed !!! p is 0.014083910496455911\n",
      "!!! Trial 114 is not normally distributed !!! p is 0.022314070037747755\n",
      "!!! Trial 116 is not normally distributed !!! p is 0.03762684367015302\n",
      "!!! Trial 126 is not normally distributed !!! p is 0.0009371568215316585\n",
      "!!! Trial 2115 is not normally distributed !!! p is 0.036891334877097115\n"
     ]
    },
    {
     "name": "stderr",
     "output_type": "stream",
     "text": [
      "d:\\Programmierung\\anaconda3\\lib\\site-packages\\scipy\\stats\\_stats_py.py:1736: UserWarning: kurtosistest only valid for n>=20 ... continuing anyway, n=8\n",
      "  warnings.warn(\"kurtosistest only valid for n>=20 ... continuing \"\n"
     ]
    }
   ],
   "source": [
    "all_samples_normally_distributed = True\n",
    "\n",
    "print(f'H0: There are no significant differences in the REAL max yaw yalues of Group B and the VIRTUAL max yaw values of Group A for a specific trial.')\n",
    "\n",
    "for trial_id in trial_id_list:\n",
    "    a = a_yaws_by_trial[f'{trial_id}']\n",
    "    b = b_yaws_by_trial[f'{trial_id}']\n",
    "    x = np.concatenate((a, b))                                  # ???? Normalverteilung für Gruppe A und B zusammen oder getrennt testen ???\n",
    "\n",
    "    k2, p_normal = stats.normaltest(x)\n",
    "    alpha = 0.05                                                # ???? Kann / Soll man selbe Alpha für Normalverteilung und t-Test nutzen? In SciPy Docs Beispiel ist alpha 0.001 bzw. 1e-3 ???\n",
    "\n",
    "    if p_normal < alpha:\n",
    "        print(f'!!! Trial {trial_id} is not normally distributed !!! p is {p_normal}')        # ??? Kann man die Trials, die nicht normal verteilt sind, einfach ignorieren ???\n",
    "        all_samples_normally_distributed = False\n",
    "    else:\n",
    "        _, p_ttest = stats.ttest_ind(a, b)\n",
    "        if p_ttest < alpha:            \n",
    "            print(f'H0 can be REJECTED for Trial {trial_id}')\n",
    "        # else:\n",
    "        #     print(f'H0 can NOT be rejected for Trial {trial_id}')\n",
    "\n",
    "if all_samples_normally_distributed:\n",
    "    print('All yaw samples are normally distributed.')"
   ]
  },
  {
   "cell_type": "code",
   "execution_count": 146,
   "id": "9ca5e524",
   "metadata": {},
   "outputs": [
    {
     "name": "stdout",
     "output_type": "stream",
     "text": [
      "H0: There are no significant differences in the REAL max yaw yalues of Group B and the VIRTUAL max yaw values of Group A for a specific trial.\n",
      "H0 can be REJECTED for Trial 2121\n",
      "H0 can be REJECTED for Trial 116\n"
     ]
    },
    {
     "data": {
      "text/plain": [
       "ShapiroResult(statistic=0.8721331357955933, pvalue=0.30612441897392273)"
      ]
     },
     "execution_count": 146,
     "metadata": {},
     "output_type": "execute_result"
    }
   ],
   "source": [
    "print(f'H0: There are no significant differences in the REAL max yaw yalues of Group B and the VIRTUAL max yaw values of Group A for a specific trial.')\n",
    "\n",
    "for trial_id in trial_id_list:\n",
    "    a = a_yaws_by_trial[f'{trial_id}']\n",
    "    b = b_yaws_by_trial[f'{trial_id}']\n",
    "\n",
    "    _, p_ttest = stats.ttest_ind(a, b)\n",
    "\n",
    "    if p_ttest < alpha:            \n",
    "        print(f'H0 can be REJECTED for Trial {trial_id}')\n",
    "        continue\n",
    "\n",
    "    sampling_difference = pd.DataFrame(a).values - pd.DataFrame(b).values\n",
    "\n",
    "stats.shapiro(sampling_difference)\n",
    "\n",
    "    \n"
   ]
  },
  {
   "cell_type": "code",
   "execution_count": 143,
   "id": "033c6064",
   "metadata": {},
   "outputs": [
    {
     "ename": "AttributeError",
     "evalue": "'list' object has no attribute 'values'",
     "output_type": "error",
     "traceback": [
      "\u001b[1;31m---------------------------------------------------------------------------\u001b[0m",
      "\u001b[1;31mAttributeError\u001b[0m                            Traceback (most recent call last)",
      "\u001b[1;32m~\\AppData\\Local\\Temp\\ipykernel_13208\\590374300.py\u001b[0m in \u001b[0;36m<module>\u001b[1;34m\u001b[0m\n\u001b[0;32m      1\u001b[0m \u001b[0mdf\u001b[0m \u001b[1;33m=\u001b[0m \u001b[0mpd\u001b[0m\u001b[1;33m.\u001b[0m\u001b[0mDataFrame\u001b[0m\u001b[1;33m(\u001b[0m\u001b[0ma_yaws_by_trial\u001b[0m\u001b[1;33m[\u001b[0m\u001b[1;34m'2126'\u001b[0m\u001b[1;33m]\u001b[0m\u001b[1;33m)\u001b[0m\u001b[1;33m\u001b[0m\u001b[1;33m\u001b[0m\u001b[0m\n\u001b[1;32m----> 2\u001b[1;33m \u001b[0ma_yaws_by_trial\u001b[0m\u001b[1;33m[\u001b[0m\u001b[1;34m'2126'\u001b[0m\u001b[1;33m]\u001b[0m\u001b[1;33m.\u001b[0m\u001b[0mvalues\u001b[0m\u001b[1;33m\u001b[0m\u001b[1;33m\u001b[0m\u001b[0m\n\u001b[0m",
      "\u001b[1;31mAttributeError\u001b[0m: 'list' object has no attribute 'values'"
     ]
    }
   ],
   "source": [
    "df = pd.DataFrame(a_yaws_by_trial['2126'])\n",
    "df.values"
   ]
  },
  {
   "attachments": {},
   "cell_type": "markdown",
   "id": "147ce846",
   "metadata": {},
   "source": [
    "***\n",
    "### split multidimensional samples with .split(\",\") like this:"
   ]
  },
  {
   "cell_type": "code",
   "execution_count": 192,
   "id": "c5400dfe",
   "metadata": {},
   "outputs": [
    {
     "name": "stdout",
     "output_type": "stream",
     "text": [
      "0.02172193\n",
      " -0.305534\n",
      " -0.01428093\n",
      " -0.9518262\n"
     ]
    }
   ],
   "source": [
    "x, y, z, w = a_result_dict[user_id].iloc[trial_iteration]['real_rot_at_real_yaw'].split(',')\n",
    "print(x)\n",
    "print(y)\n",
    "print(z)\n",
    "print(w)"
   ]
  },
  {
   "attachments": {},
   "cell_type": "markdown",
   "id": "0558e8b0",
   "metadata": {},
   "source": [
    "***"
   ]
  },
  {
   "cell_type": "code",
   "execution_count": 303,
   "id": "5633cf44",
   "metadata": {},
   "outputs": [],
   "source": [
    "def results_where_key_is_max(dict, user_id, key):\n",
    "    max_id = dict[user_id].loc[:, key].idxmax()\n",
    "    print(\"TrialID:\", dict[user_id].loc[max_id, 'trialID'])\n",
    "    print(\"Form:\", dict[user_id].loc[max_id, 'form'])\n",
    "    print(\"Size:\", dict[user_id].loc[max_id, 'size'])\n",
    "    print(\"Speed:\", dict[user_id].loc[max_id, 'speed'])\n",
    "    print(\"Angle:\", dict[user_id].loc[max_id, 'angle'])\n",
    "    print(\"min g/r:\", dict[user_id].loc[max_id, 'min_g_r'])\n",
    "    print(\"max g/r:\", dict[user_id].loc[max_id, 'max_g_r'])\n",
    "    print(\"g/r average:\", dict[user_id].loc[max_id, 'g_r_average'])\n",
    "    print(\"max Yaw:\", dict[user_id].loc[max_id, 'max_yaw_real'])\n",
    "\n",
    "    min_id = dict[user_id].loc[:, key].idxmin()\n",
    "    if(dict[user_id].loc[max_id, key] < abs(dict[user_id].loc[min_id, key])):\n",
    "        print()\n",
    "        print(\"But absolute maximum is\")\n",
    "        results_where_key_is_min(dict ,user_id, key)\n",
    "\n",
    "def results_where_key_is_min(dict, user_id, key):\n",
    "    min_id = dict[user_id].loc[:, key].idxmin()\n",
    "    print(\"TrialID:\", dict[user_id].loc[min_id, 'trialID'])\n",
    "    print(\"Form:\", dict[user_id].loc[min_id, 'form'])\n",
    "    print(\"Size:\", dict[user_id].loc[min_id, 'size'])\n",
    "    print(\"Speed:\", dict[user_id].loc[min_id, 'speed'])\n",
    "    print(\"Angle:\", dict[user_id].loc[min_id, 'angle'])\n",
    "    print(\"min g/r:\", dict[user_id].loc[min_id, 'min_g_r'])\n",
    "    print(\"max g/r:\", dict[user_id].loc[min_id, 'max_g_r'])\n",
    "    print(\"g/r average:\", dict[user_id].loc[min_id, 'g_r_average'])\n",
    "    print(\"max Yaw:\", dict[user_id].loc[min_id, 'max_yaw_real'])\n",
    "\n",
    "# create a numpy array of all the values in the column"
   ]
  },
  {
   "cell_type": "code",
   "execution_count": 286,
   "id": "30029ef8",
   "metadata": {},
   "outputs": [
    {
     "name": "stdout",
     "output_type": "stream",
     "text": [
      "TrialID: 14\n",
      "Form: Sphere\n",
      "Size: 0.3\n",
      "Speed: 24\n",
      "Angle: -13\n",
      "min g/r: nan\n",
      "max g/r: nan\n",
      "g/r average: 0\n",
      "max Yaw: 177.2879\n",
      "\n",
      "But absolute biggest is\n",
      "TrialID: 101\n",
      "Form: Sphere\n",
      "Size: 0.8\n",
      "Speed: 18\n",
      "Angle: 27\n",
      "min g/r: nan\n",
      "max g/r: nan\n",
      "g/r average: 0\n",
      "max Yaw: -222.0172\n"
     ]
    }
   ],
   "source": [
    "results_where_key_is_max(b_result_dict, 'B4', 'max_yaw_real')"
   ]
  }
 ],
 "metadata": {
  "kernelspec": {
   "display_name": "base",
   "language": "python",
   "name": "python3"
  },
  "language_info": {
   "codemirror_mode": {
    "name": "ipython",
    "version": 3
   },
   "file_extension": ".py",
   "mimetype": "text/x-python",
   "name": "python",
   "nbconvert_exporter": "python",
   "pygments_lexer": "ipython3",
   "version": "3.9.12"
  },
  "vscode": {
   "interpreter": {
    "hash": "25dfebe30deed44f91d3e6f28a2cbad4955739111b1bd868f490bd855a5f758c"
   }
  }
 },
 "nbformat": 4,
 "nbformat_minor": 5
}

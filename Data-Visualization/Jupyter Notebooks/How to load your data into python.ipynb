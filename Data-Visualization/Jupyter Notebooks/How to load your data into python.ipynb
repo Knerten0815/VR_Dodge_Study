{
 "cells": [
  {
   "cell_type": "code",
   "execution_count": 156,
   "id": "5c3b391c",
   "metadata": {},
   "outputs": [],
   "source": [
    "import pandas as pd\n",
    "import csv"
   ]
  },
  {
   "cell_type": "code",
   "execution_count": 45,
   "id": "2a1f58b8",
   "metadata": {},
   "outputs": [],
   "source": [
    "ids_A = [\"A8\", \"A10\"]\n",
    "ids_B = [\"B4\"]"
   ]
  },
  {
   "attachments": {},
   "cell_type": "markdown",
   "id": "8a988ab5",
   "metadata": {},
   "source": [
    "#### Read all your csv files into dictionarys"
   ]
  },
  {
   "cell_type": "code",
   "execution_count": 369,
   "id": "e8a24cdb",
   "metadata": {},
   "outputs": [
    {
     "data": {
      "text/html": [
       "<div>\n",
       "<style scoped>\n",
       "    .dataframe tbody tr th:only-of-type {\n",
       "        vertical-align: middle;\n",
       "    }\n",
       "\n",
       "    .dataframe tbody tr th {\n",
       "        vertical-align: top;\n",
       "    }\n",
       "\n",
       "    .dataframe thead th {\n",
       "        text-align: right;\n",
       "    }\n",
       "</style>\n",
       "<table border=\"1\" class=\"dataframe\">\n",
       "  <thead>\n",
       "    <tr style=\"text-align: right;\">\n",
       "      <th></th>\n",
       "      <th>min_g_r</th>\n",
       "      <th>max_g_r</th>\n",
       "      <th>g_r_average</th>\n",
       "      <th>sum_injected_rotation_g_r(IN DEGREES)</th>\n",
       "      <th>injected_rotation_average</th>\n",
       "    </tr>\n",
       "  </thead>\n",
       "  <tbody>\n",
       "    <tr>\n",
       "      <th>0</th>\n",
       "      <td>-2.721025</td>\n",
       "      <td>1.972275</td>\n",
       "      <td>0.004942</td>\n",
       "      <td>9.039402</td>\n",
       "      <td>0.000963</td>\n",
       "    </tr>\n",
       "    <tr>\n",
       "      <th>1</th>\n",
       "      <td>-5.269212</td>\n",
       "      <td>5.383467</td>\n",
       "      <td>0.009485</td>\n",
       "      <td>19.448920</td>\n",
       "      <td>0.001429</td>\n",
       "    </tr>\n",
       "    <tr>\n",
       "      <th>2</th>\n",
       "      <td>-4.990340</td>\n",
       "      <td>4.139502</td>\n",
       "      <td>0.011336</td>\n",
       "      <td>18.598520</td>\n",
       "      <td>0.002283</td>\n",
       "    </tr>\n",
       "    <tr>\n",
       "      <th>3</th>\n",
       "      <td>-2.886984</td>\n",
       "      <td>2.531294</td>\n",
       "      <td>0.006964</td>\n",
       "      <td>15.505280</td>\n",
       "      <td>0.001890</td>\n",
       "    </tr>\n",
       "    <tr>\n",
       "      <th>4</th>\n",
       "      <td>-3.344656</td>\n",
       "      <td>7.295310</td>\n",
       "      <td>0.009690</td>\n",
       "      <td>19.751630</td>\n",
       "      <td>0.002661</td>\n",
       "    </tr>\n",
       "    <tr>\n",
       "      <th>...</th>\n",
       "      <td>...</td>\n",
       "      <td>...</td>\n",
       "      <td>...</td>\n",
       "      <td>...</td>\n",
       "      <td>...</td>\n",
       "    </tr>\n",
       "    <tr>\n",
       "      <th>121</th>\n",
       "      <td>-3.839200</td>\n",
       "      <td>7.484250</td>\n",
       "      <td>0.008956</td>\n",
       "      <td>14.342270</td>\n",
       "      <td>0.001819</td>\n",
       "    </tr>\n",
       "    <tr>\n",
       "      <th>122</th>\n",
       "      <td>-1.816806</td>\n",
       "      <td>6.931334</td>\n",
       "      <td>0.011709</td>\n",
       "      <td>21.298190</td>\n",
       "      <td>0.003384</td>\n",
       "    </tr>\n",
       "    <tr>\n",
       "      <th>123</th>\n",
       "      <td>-1.490812</td>\n",
       "      <td>1.948283</td>\n",
       "      <td>0.006214</td>\n",
       "      <td>17.180910</td>\n",
       "      <td>0.001340</td>\n",
       "    </tr>\n",
       "    <tr>\n",
       "      <th>124</th>\n",
       "      <td>-3.028456</td>\n",
       "      <td>13.686770</td>\n",
       "      <td>0.008138</td>\n",
       "      <td>36.969550</td>\n",
       "      <td>0.002977</td>\n",
       "    </tr>\n",
       "    <tr>\n",
       "      <th>125</th>\n",
       "      <td>-2.489991</td>\n",
       "      <td>1.808594</td>\n",
       "      <td>0.007051</td>\n",
       "      <td>24.406610</td>\n",
       "      <td>0.003273</td>\n",
       "    </tr>\n",
       "  </tbody>\n",
       "</table>\n",
       "<p>126 rows × 5 columns</p>\n",
       "</div>"
      ],
      "text/plain": [
       "      min_g_r    max_g_r  g_r_average  sum_injected_rotation_g_r(IN DEGREES)  \\\n",
       "0   -2.721025   1.972275     0.004942                               9.039402   \n",
       "1   -5.269212   5.383467     0.009485                              19.448920   \n",
       "2   -4.990340   4.139502     0.011336                              18.598520   \n",
       "3   -2.886984   2.531294     0.006964                              15.505280   \n",
       "4   -3.344656   7.295310     0.009690                              19.751630   \n",
       "..        ...        ...          ...                                    ...   \n",
       "121 -3.839200   7.484250     0.008956                              14.342270   \n",
       "122 -1.816806   6.931334     0.011709                              21.298190   \n",
       "123 -1.490812   1.948283     0.006214                              17.180910   \n",
       "124 -3.028456  13.686770     0.008138                              36.969550   \n",
       "125 -2.489991   1.808594     0.007051                              24.406610   \n",
       "\n",
       "     injected_rotation_average  \n",
       "0                     0.000963  \n",
       "1                     0.001429  \n",
       "2                     0.002283  \n",
       "3                     0.001890  \n",
       "4                     0.002661  \n",
       "..                         ...  \n",
       "121                   0.001819  \n",
       "122                   0.003384  \n",
       "123                   0.001340  \n",
       "124                   0.002977  \n",
       "125                   0.003273  \n",
       "\n",
       "[126 rows x 5 columns]"
      ]
     },
     "execution_count": 369,
     "metadata": {},
     "output_type": "execute_result"
    }
   ],
   "source": [
    "a_sample_dict, b_sample_dict, a_result_dict, b_result_dict = {}, {}, {}, {}\n",
    "tmp = []\n",
    "\n",
    "for id in ids_A:\n",
    "    for i in range(125):\n",
    "        tmp.append(pd.read_csv(fr\"C:\\Users\\kevin\\Desktop\\ExperimentResults\\userID_{id}\\SampledMetrics\\trialIteration_{i}_samples.csv\", sep=\";\"))\n",
    "        #tmp[i].dropna(axis='columns')\n",
    "    a_sample_dict[id] = tmp\n",
    "    tmp = []\n",
    "    \n",
    "    #fixing broken first row in results \n",
    "    result_path = fr'C:\\Users\\kevin\\Desktop\\ExperimentResults\\userID_{id}'\n",
    "    with open(fr\"{result_path}\\Result.csv\", 'rt') as inp, open(fr\"{result_path}\\Result_edit.csv\", 'wt') as out:\n",
    "        writer = csv.writer(out)\n",
    "        for row in csv.reader(inp):\n",
    "            if row != ['sep=;']:\n",
    "                writer.writerow(row)\n",
    "\n",
    "    a_result_dict[id] = pd.read_csv(fr\"{result_path}\\Result_edit.csv\", sep=\";\")\n",
    "    # dropping irrelevant columns\n",
    "    a_result_dict[id].drop('TrialIteration', axis=1, inplace=True)\n",
    "    a_result_dict[id].dropna(axis='columns', inplace=True)\n",
    "\n",
    "for id in ids_B:\n",
    "    for i in range(125):\n",
    "        tmp.append(pd.read_csv(fr\"C:\\Users\\kevin\\Desktop\\ExperimentResults\\userID_{id}\\SampledMetrics\\trialIteration_{i}_samples.csv\", sep=\";\"))\n",
    "        tmp[i].dropna(axis='columns')\n",
    "        tmp[i].drop(columns=['g_r', 'injected_rotations', 'additional_virtual_rotation_accumulation',\n",
    "                          'virtual_position', 'virtual_direction', 'virtual_euler', 'virtual_rotation'],\n",
    "                    inplace=True)\n",
    "    b_sample_dict[id] = tmp\n",
    "    tmp = []\n",
    "\n",
    "    #fixing broken first row in results \n",
    "    result_path = fr'C:\\Users\\kevin\\Desktop\\ExperimentResults\\userID_{id}'\n",
    "    with open(fr\"{result_path}\\Result.csv\", 'rt') as inp, open(fr\"{result_path}\\Result_edit.csv\", 'wt') as out:\n",
    "        writer = csv.writer(out)\n",
    "        for row in csv.reader(inp):\n",
    "            if row != ['sep=;']:\n",
    "                writer.writerow(row)#\n",
    "                \n",
    "    b_result_dict[id] = pd.read_csv(fr\"{result_path}\\Result_edit.csv\", sep=\";\")\n",
    "    # dropping irrelevant columns\n",
    "    b_result_dict[id].drop(columns=['min_g_r', 'max_g_r', 'g_r_average', 'sum_injected_rotation_g_r(IN DEGREES)', 'injected_rotation_average',\n",
    "                                    'real_dir_at_virt_yaw', 'virt_dir_at_virt_yaw', 'max_yaw_virt', 'real_pos_at_virt_yaw', 'virt_pos_at_virt_yaw',\n",
    "                                    'real_euler_at_real_yaw','virt_euler_at_real_yaw', 'real_euler_at_virt_yaw', 'virt_euler_at_virt_yaw',\n",
    "                                    'real_rot_at_real_yaw',\t'virt_rot_at_real_yaw', 'real_rot_at_virt_yaw' ,'virt_rot_at_virt_yaw'],\n",
    "                           inplace=True)\n",
    "    b_result_dict[id].drop('TrialIteration', axis=1, inplace=True)\n",
    "    b_result_dict[id].dropna(axis='columns', inplace=True)\n",
    "\n",
    "\n",
    "#a_result_dict['A10']\n",
    "#b_result_dict['B4']\n",
    "#a_sample_dict['A10'][25]\n",
    "a_result_dict['A10'].loc[:, 'min_g_r':'injected_rotation_average']"
   ]
  },
  {
   "attachments": {},
   "cell_type": "markdown",
   "id": "738f72bd",
   "metadata": {},
   "source": [
    "***\n",
    "### this is how you reference Samples"
   ]
  },
  {
   "cell_type": "code",
   "execution_count": 368,
   "id": "a11425f7",
   "metadata": {},
   "outputs": [
    {
     "data": {
      "text/plain": [
       "15"
      ]
     },
     "execution_count": 368,
     "metadata": {},
     "output_type": "execute_result"
    }
   ],
   "source": [
    "user_id = \"A10\"\n",
    "trial_iteration = 25\n",
    "sample = 2\n",
    "sample_key = \"g_r\"\n",
    "\n",
    "# get the whole dataframe of a trial\n",
    "a_sample_dict[user_id][trial_iteration]\n",
    "\n",
    "# get sample list:\n",
    "a_sample_dict[user_id][trial_iteration][sample_key]\n",
    "\n",
    "# get all values from specific sample\n",
    "a_sample_dict[user_id][trial_iteration].iloc[sample]\n",
    "\n",
    "# get a specific value \n",
    "a_sample_dict[user_id][trial_iteration].iloc[sample][sample_key]\n",
    "\n",
    "# print all sample key names\n",
    "a_sample_dict[user_id][trial_iteration].columns"
   ]
  },
  {
   "attachments": {},
   "cell_type": "markdown",
   "id": "bfa15d4d",
   "metadata": {},
   "source": [
    "### this is how you reference Results"
   ]
  },
  {
   "cell_type": "code",
   "execution_count": 188,
   "id": "15a6bed1",
   "metadata": {
    "scrolled": true
   },
   "outputs": [
    {
     "data": {
      "text/plain": [
       "Index(['TrialIteration', 'EndState', 'experiment_start_time', 'trialID',\n",
       "       'form', 'size', 'speed', 'angle', 'experiment_duration',\n",
       "       'average_sampling_interval', 'sum_real_distance_travelled(IN METERS)',\n",
       "       'max_distance_to_center', 'real_pos_at_max_dist',\n",
       "       'virt_pos_at_max_dist', 'min_g_r', 'max_g_r', 'g_r_average',\n",
       "       'sum_injected_rotation_g_r(IN DEGREES)', 'injected_rotation_average',\n",
       "       'max_yaw_real', 'max_yaw_virt', 'real_dir_at_real_yaw',\n",
       "       'virt_dir_at_real_yaw', 'real_dir_at_virt_yaw', 'virt_dir_at_virt_yaw',\n",
       "       'real_pos_at_real_yaw', 'virt_pos_at_real_yaw', 'real_pos_at_virt_yaw',\n",
       "       'virt_pos_at_virt_yaw', 'real_euler_at_real_yaw',\n",
       "       'virt_euler_at_real_yaw', 'real_euler_at_virt_yaw',\n",
       "       'virt_euler_at_virt_yaw', 'real_rot_at_real_yaw',\n",
       "       'virt_rot_at_real_yaw', 'real_rot_at_virt_yaw', 'virt_rot_at_virt_yaw',\n",
       "       'Unnamed: 37'],\n",
       "      dtype='object')"
      ]
     },
     "execution_count": 188,
     "metadata": {},
     "output_type": "execute_result"
    }
   ],
   "source": [
    "user_id = \"A10\"\n",
    "trial_iteration = 25\n",
    "trial = 2\n",
    "column = \"real_rot_at_virt_yaw\"\n",
    "\n",
    "# get the whole result dataframe of a trial\n",
    "a_result_dict[user_id]\n",
    "# get a column:\n",
    "a_result_dict[user_id][column]\n",
    "# get a row\n",
    "a_result_dict[user_id].iloc[trial]\n",
    "# get a specific value\n",
    "a_result_dict[user_id].iloc[trial][column]\n",
    "# print all column names\n",
    "a_result_dict[user_id].columns"
   ]
  },
  {
   "attachments": {},
   "cell_type": "markdown",
   "id": "147ce846",
   "metadata": {},
   "source": [
    "***\n",
    "### split multidimensional samples with .split(\",\") like this:"
   ]
  },
  {
   "cell_type": "code",
   "execution_count": 192,
   "id": "c5400dfe",
   "metadata": {},
   "outputs": [
    {
     "name": "stdout",
     "output_type": "stream",
     "text": [
      "0.02172193\n",
      " -0.305534\n",
      " -0.01428093\n",
      " -0.9518262\n"
     ]
    }
   ],
   "source": [
    "x, y, z, w = a_result_dict[user_id].iloc[trial_iteration]['real_rot_at_real_yaw'].split(',')\n",
    "print(x)\n",
    "print(y)\n",
    "print(z)\n",
    "print(w)"
   ]
  },
  {
   "attachments": {},
   "cell_type": "markdown",
   "id": "0558e8b0",
   "metadata": {},
   "source": [
    "***"
   ]
  },
  {
   "cell_type": "code",
   "execution_count": 303,
   "id": "5633cf44",
   "metadata": {},
   "outputs": [],
   "source": [
    "def results_where_key_is_max(dict, user_id, key):\n",
    "    max_id = dict[user_id].loc[:, key].idxmax()\n",
    "    print(\"TrialID:\", dict[user_id].loc[max_id, 'trialID'])\n",
    "    print(\"Form:\", dict[user_id].loc[max_id, 'form'])\n",
    "    print(\"Size:\", dict[user_id].loc[max_id, 'size'])\n",
    "    print(\"Speed:\", dict[user_id].loc[max_id, 'speed'])\n",
    "    print(\"Angle:\", dict[user_id].loc[max_id, 'angle'])\n",
    "    print(\"min g/r:\", dict[user_id].loc[max_id, 'min_g_r'])\n",
    "    print(\"max g/r:\", dict[user_id].loc[max_id, 'max_g_r'])\n",
    "    print(\"g/r average:\", dict[user_id].loc[max_id, 'g_r_average'])\n",
    "    print(\"max Yaw:\", dict[user_id].loc[max_id, 'max_yaw_real'])\n",
    "\n",
    "    min_id = dict[user_id].loc[:, key].idxmin()\n",
    "    if(dict[user_id].loc[max_id, key] < abs(dict[user_id].loc[min_id, key])):\n",
    "        print()\n",
    "        print(\"But absolute maximum is\")\n",
    "        results_where_key_is_min(dict ,user_id, key)\n",
    "\n",
    "def results_where_key_is_min(dict, user_id, key):\n",
    "    min_id = dict[user_id].loc[:, key].idxmin()\n",
    "    print(\"TrialID:\", dict[user_id].loc[min_id, 'trialID'])\n",
    "    print(\"Form:\", dict[user_id].loc[min_id, 'form'])\n",
    "    print(\"Size:\", dict[user_id].loc[min_id, 'size'])\n",
    "    print(\"Speed:\", dict[user_id].loc[min_id, 'speed'])\n",
    "    print(\"Angle:\", dict[user_id].loc[min_id, 'angle'])\n",
    "    print(\"min g/r:\", dict[user_id].loc[min_id, 'min_g_r'])\n",
    "    print(\"max g/r:\", dict[user_id].loc[min_id, 'max_g_r'])\n",
    "    print(\"g/r average:\", dict[user_id].loc[min_id, 'g_r_average'])\n",
    "    print(\"max Yaw:\", dict[user_id].loc[min_id, 'max_yaw_real'])"
   ]
  },
  {
   "cell_type": "code",
   "execution_count": 286,
   "id": "30029ef8",
   "metadata": {},
   "outputs": [
    {
     "name": "stdout",
     "output_type": "stream",
     "text": [
      "TrialID: 14\n",
      "Form: Sphere\n",
      "Size: 0.3\n",
      "Speed: 24\n",
      "Angle: -13\n",
      "min g/r: nan\n",
      "max g/r: nan\n",
      "g/r average: 0\n",
      "max Yaw: 177.2879\n",
      "\n",
      "But absolute biggest is\n",
      "TrialID: 101\n",
      "Form: Sphere\n",
      "Size: 0.8\n",
      "Speed: 18\n",
      "Angle: 27\n",
      "min g/r: nan\n",
      "max g/r: nan\n",
      "g/r average: 0\n",
      "max Yaw: -222.0172\n"
     ]
    }
   ],
   "source": [
    "results_where_key_is_max(b_result_dict, 'B4', 'max_yaw_real')"
   ]
  }
 ],
 "metadata": {
  "kernelspec": {
   "display_name": "base",
   "language": "python",
   "name": "python3"
  },
  "language_info": {
   "codemirror_mode": {
    "name": "ipython",
    "version": 3
   },
   "file_extension": ".py",
   "mimetype": "text/x-python",
   "name": "python",
   "nbconvert_exporter": "python",
   "pygments_lexer": "ipython3",
   "version": "3.9.13"
  },
  "vscode": {
   "interpreter": {
    "hash": "6defd577cd85e3649e86c46a537635b7104b081260a238509c81cac8b534171b"
   }
  }
 },
 "nbformat": 4,
 "nbformat_minor": 5
}
